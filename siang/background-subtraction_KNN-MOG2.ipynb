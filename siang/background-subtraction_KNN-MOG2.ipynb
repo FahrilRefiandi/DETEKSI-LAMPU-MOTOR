{
 "cells": [
  {
   "cell_type": "code",
   "execution_count": 10,
   "id": "9d41b7a8",
   "metadata": {},
   "outputs": [],
   "source": [
    "import cv2 as cv\n",
    "import numpy as np"
   ]
  },
  {
   "cell_type": "code",
   "execution_count": 11,
   "id": "7d734bf3",
   "metadata": {},
   "outputs": [],
   "source": [
    "backSub = cv.createBackgroundSubtractorKNN()\n",
    "# backSub = cv.createBackgroundSubtractorMOG2()\n",
    "# backSub = cv.imread('background.png')\n",
    "capture = cv.VideoCapture(\"video1.mp4\")\n",
    "\n",
    "if not capture.isOpened():\n",
    "    print('Unable to Open')\n",
    "    exit(0)"
   ]
  },
  {
   "cell_type": "code",
   "execution_count": 13,
   "id": "f570b70a",
   "metadata": {},
   "outputs": [
    {
     "ename": "KeyboardInterrupt",
     "evalue": "",
     "output_type": "error",
     "traceback": [
      "\u001b[1;31m---------------------------------------------------------------------------\u001b[0m",
      "\u001b[1;31mKeyboardInterrupt\u001b[0m                         Traceback (most recent call last)",
      "\u001b[1;32mc:\\Users\\whisn\\Downloads\\Whisnumurty\\Kuliah\\Penelitian\\Penelitian Deteksi Lampu Sepeda Motor\\code\\background-subtraction_KNN-MOG2.ipynb Cell 3\u001b[0m in \u001b[0;36m<cell line: 3>\u001b[1;34m()\u001b[0m\n\u001b[0;32m     <a href='vscode-notebook-cell:/c%3A/Users/whisn/Downloads/Whisnumurty/Kuliah/Penelitian/Penelitian%20Deteksi%20Lampu%20Sepeda%20Motor/code/background-subtraction_KNN-MOG2.ipynb#W2sZmlsZQ%3D%3D?line=23'>24</a>\u001b[0m cv\u001b[39m.\u001b[39mimshow(\u001b[39m'\u001b[39m\u001b[39mFrame\u001b[39m\u001b[39m'\u001b[39m, frame)\n\u001b[0;32m     <a href='vscode-notebook-cell:/c%3A/Users/whisn/Downloads/Whisnumurty/Kuliah/Penelitian/Penelitian%20Deteksi%20Lampu%20Sepeda%20Motor/code/background-subtraction_KNN-MOG2.ipynb#W2sZmlsZQ%3D%3D?line=24'>25</a>\u001b[0m cv\u001b[39m.\u001b[39mimshow(\u001b[39m'\u001b[39m\u001b[39mfgMask\u001b[39m\u001b[39m'\u001b[39m, fgMask)\n\u001b[1;32m---> <a href='vscode-notebook-cell:/c%3A/Users/whisn/Downloads/Whisnumurty/Kuliah/Penelitian/Penelitian%20Deteksi%20Lampu%20Sepeda%20Motor/code/background-subtraction_KNN-MOG2.ipynb#W2sZmlsZQ%3D%3D?line=26'>27</a>\u001b[0m keyboard \u001b[39m=\u001b[39m cv\u001b[39m.\u001b[39;49mwaitKey(\u001b[39m30\u001b[39;49m)\n\u001b[0;32m     <a href='vscode-notebook-cell:/c%3A/Users/whisn/Downloads/Whisnumurty/Kuliah/Penelitian/Penelitian%20Deteksi%20Lampu%20Sepeda%20Motor/code/background-subtraction_KNN-MOG2.ipynb#W2sZmlsZQ%3D%3D?line=27'>28</a>\u001b[0m \u001b[39mif\u001b[39;00m keyboard \u001b[39m==\u001b[39m \u001b[39m'\u001b[39m\u001b[39mq\u001b[39m\u001b[39m'\u001b[39m \u001b[39mor\u001b[39;00m keyboard \u001b[39m==\u001b[39m \u001b[39m27\u001b[39m:\n\u001b[0;32m     <a href='vscode-notebook-cell:/c%3A/Users/whisn/Downloads/Whisnumurty/Kuliah/Penelitian/Penelitian%20Deteksi%20Lampu%20Sepeda%20Motor/code/background-subtraction_KNN-MOG2.ipynb#W2sZmlsZQ%3D%3D?line=28'>29</a>\u001b[0m     \u001b[39mbreak\u001b[39;00m\n",
      "\u001b[1;31mKeyboardInterrupt\u001b[0m: "
     ]
    },
    {
     "ename": "",
     "evalue": "",
     "output_type": "error",
     "traceback": [
      "\u001b[1;31mThe Kernel crashed while executing code in the the current cell or a previous cell. Please review the code in the cell(s) to identify a possible cause of the failure. Click <a href='https://aka.ms/vscodeJupyterKernelCrash'>here</a> for more info. View Jupyter <a href='command:jupyter.viewOutput'>log</a> for further details."
     ]
    }
   ],
   "source": [
    "while True : \n",
    "#     baca video\n",
    "    ret, frame = capture.read()\n",
    "    if frame is None:\n",
    "        break\n",
    "    \n",
    "    frame = cv.resize(frame, (800,800))\n",
    "    fgMask = backSub.apply(frame)\n",
    "    \n",
    "#     image processing\n",
    "    kernel = np.ones((5,5), np.uint8)\n",
    "    fgMask = cv.erode(fgMask, kernel, iterations=2)\n",
    "    fgMask = cv.dilate(fgMask, kernel, iterations=3)\n",
    "    \n",
    "#     draw bound\n",
    "    cv.rectangle(frame, (10, 2), (100,20), (255,255,255), -1)\n",
    "    cv.putText(frame, str(capture.get(cv.CAP_PROP_POS_FRAMES)), (15,15),\n",
    "              cv.FONT_HERSHEY_SIMPLEX, 0.5, (0,0,0))\n",
    "    \n",
    "#     Reduce Noise\n",
    "    fgMask[np.abs(fgMask) < 250] = 0\n",
    "    \n",
    "#     Show Image\n",
    "    cv.imshow('Frame', frame)\n",
    "    cv.imshow('fgMask', fgMask)\n",
    "    \n",
    "    keyboard = cv.waitKey(30)\n",
    "    if keyboard == 'q' or keyboard == 27:\n",
    "        break"
   ]
  },
  {
   "cell_type": "code",
   "execution_count": null,
   "id": "4ec1cbeb",
   "metadata": {},
   "outputs": [],
   "source": []
  }
 ],
 "metadata": {
  "kernelspec": {
   "display_name": "Python 3 (ipykernel)",
   "language": "python",
   "name": "python3"
  },
  "language_info": {
   "codemirror_mode": {
    "name": "ipython",
    "version": 3
   },
   "file_extension": ".py",
   "mimetype": "text/x-python",
   "name": "python",
   "nbconvert_exporter": "python",
   "pygments_lexer": "ipython3",
   "version": "3.9.16"
  }
 },
 "nbformat": 4,
 "nbformat_minor": 5
}
