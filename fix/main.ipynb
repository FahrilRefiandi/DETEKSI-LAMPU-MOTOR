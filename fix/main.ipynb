{
 "cells": [
  {
   "cell_type": "code",
   "execution_count": 194,
   "metadata": {},
   "outputs": [],
   "source": [
    "import cv2 as cv\n",
    "from tracker import *\n",
    "import numpy as np"
   ]
  },
  {
   "cell_type": "code",
   "execution_count": 195,
   "metadata": {},
   "outputs": [],
   "source": [
    "# Read\n",
    "cap = cv.VideoCapture(\"video1.mp4\", cv.IMREAD_GRAYSCALE)\n",
    "\n",
    "# Create Object Detector Function\n",
    "object_detectorMOG2 = cv.createBackgroundSubtractorMOG2(history=100, varThreshold=100, detectShadows=False)\n",
    "object_detectorKNN = cv.createBackgroundSubtractorKNN(history=100, dist2Threshold=100, detectShadows=False)\n",
    "\n",
    "# Call class EuclideanDistTracker for track object detection\n",
    "tracker = EuclideanDistTracker()\n",
    "\n",
    "# define n to count succeded motorbike detection\n",
    "n = 0;"
   ]
  },
  {
   "cell_type": "code",
   "execution_count": 196,
   "metadata": {},
   "outputs": [
    {
     "ename": "KeyboardInterrupt",
     "evalue": "",
     "output_type": "error",
     "traceback": [
      "\u001b[1;31m---------------------------------------------------------------------------\u001b[0m",
      "\u001b[1;31mKeyboardInterrupt\u001b[0m                         Traceback (most recent call last)",
      "Cell \u001b[1;32mIn[196], line 5\u001b[0m\n\u001b[0;32m      1\u001b[0m \u001b[39m# if cap return true\u001b[39;00m\n\u001b[0;32m      2\u001b[0m \u001b[39mwhile\u001b[39;00m \u001b[39mTrue\u001b[39;00m:\n\u001b[0;32m      3\u001b[0m \n\u001b[0;32m      4\u001b[0m     \u001b[39m# save result from cap.read()\u001b[39;00m\n\u001b[1;32m----> 5\u001b[0m     ret, frame \u001b[39m=\u001b[39m cap\u001b[39m.\u001b[39;49mread()\n\u001b[0;32m      7\u001b[0m     \u001b[39m# resize resolution frame\u001b[39;00m\n\u001b[0;32m      8\u001b[0m     resizeFrame \u001b[39m=\u001b[39m cv\u001b[39m.\u001b[39mresize(frame, (\u001b[39m960\u001b[39m, \u001b[39m560\u001b[39m))\n",
      "\u001b[1;31mKeyboardInterrupt\u001b[0m: "
     ]
    }
   ],
   "source": [
    "# if cap return true\n",
    "while True:\n",
    "\n",
    "    # save result from cap.read()\n",
    "    ret, frame = cap.read()\n",
    "\n",
    "    # resize resolution frame\n",
    "    resizeFrame = cv.resize(frame, (960, 560))\n",
    "\n",
    "    # save heigt and width from resize frame\n",
    "    height, width, _ = resizeFrame.shape\n",
    "\n",
    "    # make concern roi\n",
    "    roi = resizeFrame[300:560,300:750]\n",
    "        # cv.imshow(\"resizeFrame\", resizeFrame)\n",
    "        # cv.imshow(\"roi\", roi)\n",
    "\n",
    "    # convert roi to gray\n",
    "    gray = cv.cvtColor(roi, cv.COLOR_BGR2GRAY)\n",
    "        # cv.imshow(\"gray\", gray)   \n",
    "    \n",
    "    # reduce noise\n",
    "    blurRoiGaussian = cv.GaussianBlur(gray, (51,51), 0)\n",
    "\n",
    "    brightness = -30\n",
    "    contrast = 0\n",
    "    tmp = np.int16(blurRoiGaussian)\n",
    "    tmp = tmp * (contrast/127+1) - contrast + brightness\n",
    "    tmp = np.clip(tmp, 0, 255)\n",
    "    adjusted = np.uint8(tmp)    \n",
    "    cv.imshow(\"adjusted\", adjusted)\n",
    "\n",
    "    # apply object_detector  \n",
    "    maskGaussian = object_detectorKNN.apply(adjusted)\n",
    "    cv.imshow(\"maskGaussian\", maskGaussian)\n",
    "\n",
    "\n",
    "    # erosion = cv.erode(maskKNN,(5,5),iterations = 10)\n",
    "    # cv.imshow(\"erode\", erosion)\n",
    "    # closing = cv.morphologyEx(maskKNN, cv.MORPH_CLOSE, (5,5))\n",
    "    # cv.imshow(\"closing\", closing)\n",
    "    # dilation = cv.erode(erosion,(5,5),iterations = 10)\n",
    "    # cv.imshow(\"dilation\", dilation)\n",
    "    \n",
    "\n",
    "    # contours, hie = cv.findContours(mask, cv.RETR_TREE, cv.CHAIN_APPROX_SIMPLE)\n",
    "    # detections = []\n",
    "    # for cnt in contours:\n",
    "    #     area = cv.contourArea(cnt)\n",
    "    #     # print(hie)\n",
    "    #     #print(area)\n",
    "    #     if area > 800 and area < 1400:\n",
    "    #         n+=1\n",
    "    #         # print(area)\n",
    "    #         x, y, w, h = cv.boundingRect(cnt)\n",
    " \n",
    "    #         # print(\"y\" + y)\n",
    "    #         # print(\"h\" + h)\n",
    "            \n",
    "    #         # cv.imwrite('khuluq/ds/'+str(n)+'.jpg',gray[0:200, 0:200])\n",
    "    #         cv.rectangle(resizeFrame,(x,y),(x+w , y+h),(0,255,0),3)\n",
    "    #         cv.rectangle(roi,(x,y),(x+w , y+h),(0,255,0),3)\n",
    "\n",
    "    #         detections.append([x, y, w, h])\n",
    "    #         # 2. Object Tracking\n",
    "    #         # boxes_ids = tracker.update(detections)\n",
    "    #         # for box_id in boxes_ids:\n",
    "    #         #     x, y, w, h, id = box_id \n",
    "    #         #     print(\"ini id : \" , id)\n",
    "    #         #     print(x)\n",
    "    #         #     print(w)\n",
    "                # cv.putText(roi,str(area), (x, y - 15), cv.FONT_HERSHEY_PLAIN, 2, (255, 0, 0), 2)\n",
    "                # cv.rectangle(roi, (x, y), (x + w, y + h), (0, 255, 0), 3)\n",
    "\n",
    "    # cv.imshow(\"roi\", roi)\n",
    "    \n",
    "    # cv.imshow(\"frame\", resizeFrame)\n",
    "    # cv.imshow(\"mask\",mask)\n",
    "    # cv.imshow(\"erosion\", erosion)\n",
    "    # cv.imshow(\"dilation\", erosion)\n",
    "    # cv.imshow(\"adjust\", adjust)\n",
    "\n",
    "    if cv.waitKey(2) & 0xff == ord('q'):\n",
    "        break\n",
    "\n",
    "cap.release()\n",
    "cv.destroyAllWindows()\n"
   ]
  },
  {
   "cell_type": "markdown",
   "metadata": {},
   "source": []
  },
  {
   "cell_type": "code",
   "execution_count": null,
   "metadata": {},
   "outputs": [],
   "source": [
    "\n"
   ]
  }
 ],
 "metadata": {
  "kernelspec": {
   "display_name": "base",
   "language": "python",
   "name": "python3"
  },
  "language_info": {
   "codemirror_mode": {
    "name": "ipython",
    "version": 3
   },
   "file_extension": ".py",
   "mimetype": "text/x-python",
   "name": "python",
   "nbconvert_exporter": "python",
   "pygments_lexer": "ipython3",
   "version": "3.9.16"
  },
  "orig_nbformat": 4
 },
 "nbformat": 4,
 "nbformat_minor": 2
}
